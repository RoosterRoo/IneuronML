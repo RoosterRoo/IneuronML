{
 "cells": [
  {
   "cell_type": "code",
   "execution_count": null,
   "metadata": {},
   "outputs": [],
   "source": [
    "# 1.1 Write a Python Program(with class concepts) to find the area of the triangle using Heron's formula"
   ]
  },
  {
   "cell_type": "code",
   "execution_count": 6,
   "metadata": {},
   "outputs": [
    {
     "name": "stdout",
     "output_type": "stream",
     "text": [
      "3 4 5\n",
      "Area of the triangle is : 6.0\n"
     ]
    }
   ],
   "source": [
    "class Polygon:\n",
    "    def __init__(self, a, b, c):\n",
    "        self.a = a\n",
    "        self.b = b\n",
    "        self.c = c\n",
    "        \n",
    "class Triangle(Polygon):\n",
    "    def __init__(self, *args):\n",
    "        super(Triangle, self).__init__(*args)\n",
    "        \n",
    "    def area(self):\n",
    "        s = (self.a + self.b + self.c) / 2.0\n",
    "        return ((s*(s-self.a)*(s-self.b)*(s-self.c)) ** 0.5)\n",
    "\n",
    "a, b, c = map(int, input().split(' '))\n",
    "triangle = Triangle(a, b, c)\n",
    "area = triangle.area()\n",
    "print(\"Area of the triangle is :\",area)"
   ]
  },
  {
   "cell_type": "code",
   "execution_count": 7,
   "metadata": {},
   "outputs": [
    {
     "name": "stdout",
     "output_type": "stream",
     "text": [
      "4\n",
      "['Hello', 'aeroplane', 'bravo']\n"
     ]
    }
   ],
   "source": [
    "# 1.2 Write a function filter_long_words() that takes a list of words and an integer n and returns \\\n",
    "# the list of words that are longer than n.\n",
    "\n",
    "def filter_long_words(words, n):\n",
    "    return list(filter(lambda word: len(word) > n, words))\n",
    "\n",
    "\n",
    "words = [\"Hello\", \"aeroplane\", \"bravo\", \"egg\"]\n",
    "n = int(input())\n",
    "print(filter_long_words(words, n))"
   ]
  },
  {
   "cell_type": "code",
   "execution_count": 8,
   "metadata": {},
   "outputs": [
    {
     "name": "stdout",
     "output_type": "stream",
     "text": [
      "abc hello apple banana godzilla\n",
      "[3, 5, 5, 6, 8]\n"
     ]
    }
   ],
   "source": [
    "# 2.1 Write a Python program using function concept that maps list of words into a list of integers \\\n",
    "# representing the lengths of the corresponding words.\n",
    "\n",
    "l = [x for x in input().split(' ')]\n",
    "l1 = list(map(len, l))\n",
    "print(l1)"
   ]
  },
  {
   "cell_type": "code",
   "execution_count": 13,
   "metadata": {},
   "outputs": [
    {
     "name": "stdout",
     "output_type": "stream",
     "text": [
      "b\n",
      "False\n"
     ]
    }
   ],
   "source": [
    "# 2.2 Write a Python function which takes a character (i.e. a string of length 1) and returns True if \\\n",
    "# it is a vowel, False otherwise.\n",
    "\n",
    "def vowelOrNot(char):\n",
    "    if len(char) > 1 or len(char) < 1:\n",
    "        print(\"Enter a character of length 1\")\n",
    "        return False\n",
    "    else:\n",
    "        if char.lower() in  ['a', 'e', 'i', 'o', 'u']:\n",
    "            return True \n",
    "        return False\n",
    "\n",
    "\n",
    "char = input()\n",
    "print(vowelOrNot(char))"
   ]
  },
  {
   "cell_type": "code",
   "execution_count": null,
   "metadata": {},
   "outputs": [],
   "source": []
  }
 ],
 "metadata": {
  "kernelspec": {
   "display_name": "Python 3",
   "language": "python",
   "name": "python3"
  },
  "language_info": {
   "codemirror_mode": {
    "name": "ipython",
    "version": 3
   },
   "file_extension": ".py",
   "mimetype": "text/x-python",
   "name": "python",
   "nbconvert_exporter": "python",
   "pygments_lexer": "ipython3",
   "version": "3.7.1"
  }
 },
 "nbformat": 4,
 "nbformat_minor": 2
}
